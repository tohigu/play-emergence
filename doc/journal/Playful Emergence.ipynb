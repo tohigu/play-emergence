{
 "cells": [
  {
   "cell_type": "markdown",
   "metadata": {
    "slideshow": {
     "slide_type": "slide"
    }
   },
   "source": [
    "# Introduction\n",
    "\n",
    "This notebook documents my research-creation process around playful interactivity mediated by machine learning agents.\n",
    "\n",
    "## Notes on emergence and Play\n",
    "\n",
    "Via Soler-Adillon, we learn that some game theorists have referred to  Holland's definition of emergence as a concept to explore the idea of open vs. closed games (Juul, 2002; Salen and Zimmerman, 2004; Adams and Dormans 2012).\n",
    "\n",
    "The authors consider emergence as a characteristic of a game in which the progression isn't predefined. Instead, these games offer a set of rules that lead to unpredictable results and, in consequence, producing novelty as an emergent feature.\n",
    "\n",
    "However, Soler-Adillon points out that Holland's original concern about emergence is, in reality, referring to the capacity for self-organization of a system.\n",
    "\n",
    "Considering those above, I believe it should be worthy to examine emergence in this context as the expression of self-organization. With the purpose of being more specific, instead of aiming to create a system that just outputs unpredictable behavior based on a set of rules, I will try to design a system that based on its previous learning creates new actions through self-organization.\n",
    "\n",
    "Along those lines, before proceeding, it will be necessary to revise the ideas presented by these authors.\n",
    "\n",
    "## Games as Emergent Systems\n",
    "\n",
    "How can emergence generate meaningful play? \n",
    "\"Meaningful play in a game emerges from the relationship between player action and system outcome; it\n",
    "is the process by which a player takes action within the designed system of a game and the system\n",
    "responds to the action. The meaning of an action resides in the relationship between action and\n",
    "outcome.\"\n",
    "\n",
    "They are bottom-up systems: \"...agents residing on one scale start producing\n",
    "behavior that lies one scale above them...\"(Johnson via Salen et al)\n",
    "\n",
    "Emergence in games is expressed as a variety of behaviours, which can be  social and multilayered / multidimensional. The notion of emergence goes beyond a mere pattern: \"Bottom-up emergence is intrinsic to games and is not limited to the formal complexities of a game. Emergence occurs in different ways on the level of rules, play, or culture in any game. We are focusing in this chapter on the formal properties of emergence, but in a sense the rest of this book continues the trajectory we begin here, examining the many ways that meaningful play can emerge from a game.\"\n",
    "\n",
    "On Possibility an Potentiality: \"Complexity is intrinsically linked to meaningful play. Playing a game is synonymous with exploring a game's space of possibility.\". An interesing quote as it speaks of emergent/meaninful play as a way to expanding the realm of possibility.\n",
    "\n",
    "There exists generation of novelty in good games and emergent sytems: \"The infinite possibility that arises out of an emergent system is a key design strategy to encourage repeat play. A successfully emergent game system will continue to offer new experiences, as players explore the permutations of the system's behavior.\"\n",
    "\n",
    "TODO: Play Populous: \"Peter Molyneaux's Populous: The Beginning offers a great exampleof game emergence....\"->\"...in Populous occurs on two levels: within the local context of interaction between game units, as well as on the larger level of player behavior...\". Addressing the different levels in which emergence manifests, and supporting my premise that there occurs 3 forms of emergent playful human-machine interactivity.\n",
    "\n",
    "Because of the generation of novelty and accounting for unexpected effects, game design becomes a second-order design problem: \"Game design is a second-order design problem. A game designer designs the rules of the game directly but designs the player's experience only indirectly. A system-based understanding of how\n",
    "games function can greatly improve a game designer's ability to anticipate how changes in a game's rule-structure will ramify into a play experience.\"\n",
    "\n",
    "## Prototyping Emergent Playful Interactivity\n",
    "\n",
    "To explore these notions of emergent playful interactivity, it seems appropriate to create a some prototypes that would try to cover the aforementioned features of emergent processes. Ideally, the prototype would allow the player engage with the game's system producing a constant stream of novel forms (patterns?) of interaction. These new patterns should be the result of the self-organization of the whole system. It would be interesting from now on to think more about the nature of the aforementioned self-organization. Is it (Human/Machine) learning, the game's rules, or creative/intuitive processes that generate these new patterns?\n",
    "\n",
    "## RNNs and responding to the player's actions\n",
    "\n",
    "I decided to implement a RNN model called Dynamic seq2seq using the Tensorflow framework. In theory this model allows the computation of sequential inputs in order to generate a prediction of the expected values in a suggested sequence. It seems like this models excels at mimicking the received sequences. However, because the model is only attempting to predict new sequences, there is no novelty in the model's generated responses. It seems like instead of \"guessing\" what the player will do, it has simply learned to do exactly as the player is doing. It doen't seem either that the agent is self organizing further than the initial training phase. Perhaps it would be a good idea to test other models that are more focused in generativity."
   ]
  }
 ],
 "metadata": {
  "anaconda-cloud": {},
  "celltoolbar": "Slideshow",
  "kernelspec": {
   "display_name": "Python 3",
   "language": "python",
   "name": "python3"
  },
  "language_info": {
   "codemirror_mode": {
    "name": "ipython",
    "version": 3
   },
   "file_extension": ".py",
   "mimetype": "text/x-python",
   "name": "python",
   "nbconvert_exporter": "python",
   "pygments_lexer": "ipython3",
   "version": "3.6.2"
  }
 },
 "nbformat": 4,
 "nbformat_minor": 2
}
