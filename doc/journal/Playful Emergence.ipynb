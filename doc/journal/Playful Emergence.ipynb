{
 "cells": [
  {
   "cell_type": "markdown",
   "metadata": {
    "slideshow": {
     "slide_type": "slide"
    }
   },
   "source": [
    "# Introduction\n",
    "\n",
    "This notebook documents my research-creation process around playful interactivity mediated by machine learning agents.\n",
    "\n",
    "## Notes on emergence and Play\n",
    "\n",
    "Via Soler-Adillon, we learn that some game theorists have referred to  Holland's definition of emergence as a concept to explore the idea of open vs. closed games (Juul, 2002; Salen and Zimmerman, 2004; Adams and Dormans 2012).\n",
    "The authors consider emergence as a characteristic of a game in which the progression isn't predefined. Instead, these games offer a set of rules that lead to unpredictable results and, in consequence, producing novelty as an emergent feature.\n",
    "However, Soler-Adillon points out that Holland's original concern about emergence is, in reality, referring to the capacity for self-organization of a system.\n",
    "Considering those above, I believe it should be worthy to examine emergence in this context as the expression of self-organization. With the purpose of being more specific, instead of aiming to create a system that just outputs unpredictable behavior based on a set of rules, I will try to design a system that based on its previous learning creates new actions through self-organization.\n",
    "Along those lines, before proceeding, it will be necessary to revise the ideas presented by these authors.\n",
    "\n",
    "## Games as Emergent Systems\n",
    "\n",
    "How can emergence generate meaningful play? \n",
    "\"Meaningful play in a game emerges from the relationship between player action and system outcome; it\n",
    "is the process by which a player takes action within the designed system of a game and the system\n",
    "responds to the action. The meaning of an action resides in the relationship between action and\n",
    "outcome.\"\n",
    "They are bottom-up systems: \"...agents residing on one scale start producing\n",
    "behavior that lies one scale above them...\"(Johnson via Salen et al)\n",
    "\n",
    "\"Bottom-up emergence is intrinsic to games and is not limited to the formal complexities of a game.\n",
    "Emergence occurs in different ways on the level of rules, play, or culture in any game. We are focusing in this\n",
    "chapter on the formal properties of emergence, but in a sense the rest of this book continues the trajectory we\n",
    "begin here, examining the many ways that meaningful play can emerge from a game.\"\n",
    "\n",
    "\"Complexity is intrinsically linked to meaningful play. Playing a game is synonymous with exploring a game's\n",
    "space of possibility.\"\n",
    "\"The infinite possibility that arises out of an emergent system is a key design strategy to encourage repeat play. A successfully emergent game system will continue to offer new experiences, as players explore the permutations of the system's behavior.\"\n",
    "\"Peter Molyneaux's Populous: The Beginning offers a great exampleof game emergence....\"->\"...in Populous occurs on two levels: within the local context of interaction between game units, as well as on the larger level of player behavior...\"\n",
    "\n",
    "Second-order design problem: \"Game design is a second-order design problem. A game designer designs the rules of the game directly but designs the player's experience only indirectly. A system-based understanding of how\n",
    "games function can greatly improve a game designer's ability to anticipate how changes in a game's rule-structure will ramify into a play experience.\""
   ]
  }
 ],
 "metadata": {
  "anaconda-cloud": {},
  "celltoolbar": "Slideshow",
  "kernelspec": {
   "display_name": "Python 3",
   "language": "python",
   "name": "python3"
  },
  "language_info": {
   "codemirror_mode": {
    "name": "ipython",
    "version": 3
   },
   "file_extension": ".py",
   "mimetype": "text/x-python",
   "name": "python",
   "nbconvert_exporter": "python",
   "pygments_lexer": "ipython3",
   "version": "3.6.2"
  }
 },
 "nbformat": 4,
 "nbformat_minor": 2
}
