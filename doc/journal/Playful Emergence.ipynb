{
 "cells": [
  {
   "cell_type": "markdown",
   "metadata": {
    "slideshow": {
     "slide_type": "slide"
    }
   },
   "source": [
    "# Introduction\n",
    "\n",
    "This notebook documents my research-creation process around playful interactivity mediated by machine learning agents.\n",
    "\n",
    "## Notes on emergence and Play\n",
    "\n",
    "Via Soler-Adillon, we learn that some game theorists have referred to  Holland's definition of emergence as a concept to explore the idea of open vs. closed games (Juul, 2002; Salen and Zimmerman, 2004; Adams and Dormans 2012).\n",
    "The authors consider emergence as a characteristic of a game in which the progression isn't predefined. Instead, these games offer a set of rules that lead to unpredictable results and, in consequence, producing novelty as an emergent feature.\n",
    "However, Soler-Adillon points out that Holland's original concern about emergence is, in reality, referring to the capacity for self-organization of a system.\n",
    "Considering those above, I believe it should be worthy to examine emergence in this context as the expression of self-organization. With the purpose of being more specific, instead of aiming to create a system that just outputs unpredictable behavior based on a set of rules, I will try to design a system that based on its previous learning creates new actions through self-organization.\n",
    "Along those lines, before proceeding, it will be necessary to revise the ideas presented by these authors."
   ]
  }
 ],
 "metadata": {
  "anaconda-cloud": {},
  "celltoolbar": "Slideshow",
  "kernelspec": {
   "display_name": "Python 3",
   "language": "python",
   "name": "python3"
  },
  "language_info": {
   "codemirror_mode": {
    "name": "ipython",
    "version": 3
   },
   "file_extension": ".py",
   "mimetype": "text/x-python",
   "name": "python",
   "nbconvert_exporter": "python",
   "pygments_lexer": "ipython3",
   "version": "3.6.2"
  }
 },
 "nbformat": 4,
 "nbformat_minor": 2
}
